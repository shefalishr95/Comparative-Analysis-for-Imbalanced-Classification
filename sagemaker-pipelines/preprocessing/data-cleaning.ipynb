{
 "cells": [
  {
   "cell_type": "code",
   "execution_count": 4,
   "id": "68efc675-330b-41fc-8dbd-8f35400da6cc",
   "metadata": {},
   "outputs": [
    {
     "name": "stdout",
     "output_type": "stream",
     "text": [
      "Welcome to the Glue Interactive Sessions Kernel\n",
      "For more information on available magic commands, please type %help in any new cell.\n",
      "\n",
      "Please view our Getting Started page to access the most up-to-date information on the Interactive Sessions kernel: https://docs.aws.amazon.com/glue/latest/dg/interactive-sessions.html\n",
      "Installed kernel version: 1.0.6 \n",
      "Current idle_timeout is None minutes.\n",
      "idle_timeout has been set to 20 minutes.\n",
      "Previous worker type: None\n",
      "Setting new worker type to: Standard\n",
      "Previous number of workers: None\n",
      "Setting new number of workers to: 2\n"
     ]
    }
   ],
   "source": [
    "%idle_timeout 20\n",
    "%worker_type Standard\n",
    "%number_of_workers 2"
   ]
  },
  {
   "cell_type": "code",
   "execution_count": 20,
   "id": "5f304558-b7c9-4a76-b480-bce45eb1dd2c",
   "metadata": {},
   "outputs": [
    {
     "name": "stdout",
     "output_type": "stream",
     "text": [
      "\n"
     ]
    }
   ],
   "source": [
    "%matplotlib notebook\n",
    "import matplotlib.pyplot as plt\n",
    "import seaborn as sns\n",
    "sns.set_palette(\"muted\")\n",
    "from pyspark.sql.functions import col, sum\n",
    "from pyspark.sql import functions as F\n",
    "import pandas as pd\n",
    "from pyspark.sql import SparkSession\n",
    "from pyspark.sql.types import FloatType, IntegerType, StringType, NumericType"
   ]
  },
  {
   "cell_type": "code",
   "execution_count": 2,
   "id": "7035d39d-e843-47eb-96ef-00c945b6c055",
   "metadata": {},
   "outputs": [
    {
     "name": "stdout",
     "output_type": "stream",
     "text": [
      "\n"
     ]
    }
   ],
   "source": [
    "spark = SparkSession.builder.appName(\"Amazon Product Data Cleaning\").getOrCreate()"
   ]
  },
  {
   "cell_type": "markdown",
   "id": "a7ebc77c-6eba-40f1-bb3e-714e37318079",
   "metadata": {},
   "source": [
    "# 1. Load data"
   ]
  },
  {
   "cell_type": "markdown",
   "id": "7409e2ab-9381-45fc-ae62-91edd3913ce4",
   "metadata": {},
   "source": [
    "### Dataset Information\n",
    "\n",
    "- **asin**: Product ID from Amazon (type: `str`)\n",
    "- **title**: Title of the product (type: `str`)\n",
    "- **imgUrl**: URL of the product image (type: `str`)\n",
    "- **productURL**: URL of the product (type: `str`)\n",
    "- **stars**: Product rating. `0` if no ratings were found (type: `float`)\n",
    "- **reviews**: Number of reviews. `0` if no reviews were found (type: `int`)\n",
    "- **price**: Buy now price of the product in USD. `0` if unavailable (type: `float`)\n",
    "- **listPrice**: Original price before discount in USD. `0` if no discount (type: `float`)\n",
    "- **category_id**: Category ID. Refer to `amazon_categories.csv` for actual category names (type: `int`)\n",
    "- **isBestSeller**: Whether the product had the Amazon BestSeller status (type: `bool`)\n",
    "\n",
    "Note: For the **category_id** column, please refer to the `amazon_categories.csv` file to find the corresponding category names."
   ]
  },
  {
   "cell_type": "code",
   "execution_count": 3,
   "id": "97ffed7b-659d-4f96-89b1-bbf0228634e2",
   "metadata": {},
   "outputs": [
    {
     "name": "stdout",
     "output_type": "stream",
     "text": [
      "\n"
     ]
    }
   ],
   "source": [
    "bucket_name = 'amazon-product-dataset-2024'\n",
    "categories_file_path = 's3://{}/amazon_categories.csv'.format(bucket_name)\n",
    "products_file_path = 's3://{}/amazon_products.csv'.format(bucket_name)"
   ]
  },
  {
   "cell_type": "code",
   "execution_count": 4,
   "id": "b405f19a-9cc8-4983-8500-cb390b574871",
   "metadata": {},
   "outputs": [
    {
     "name": "stdout",
     "output_type": "stream",
     "text": [
      "+---+--------------------+\n",
      "| id|       category_name|\n",
      "+---+--------------------+\n",
      "|  1|Beading & Jewelry...|\n",
      "|  2|   Fabric Decorating|\n",
      "|  3|Knitting & Croche...|\n",
      "|  4|Printmaking Supplies|\n",
      "|  5|Scrapbooking & St...|\n",
      "+---+--------------------+\n",
      "only showing top 5 rows\n"
     ]
    }
   ],
   "source": [
    "categories = spark.read.csv(categories_file_path, header=True, inferSchema=True)\n",
    "categories.show(5)"
   ]
  },
  {
   "cell_type": "code",
   "execution_count": 5,
   "id": "e2eaf708-6892-4d9d-9ab4-4f6095271fd1",
   "metadata": {},
   "outputs": [
    {
     "name": "stdout",
     "output_type": "stream",
     "text": [
      "+----------+--------------------+--------------------+--------------------+-----+-------+------+---------+-----------+------------+-----------------+\n",
      "|      asin|               title|              imgUrl|          productURL|stars|reviews| price|listPrice|category_id|isBestSeller|boughtInLastMonth|\n",
      "+----------+--------------------+--------------------+--------------------+-----+-------+------+---------+-----------+------------+-----------------+\n",
      "|B014TMV5YE|Sion Softside Exp...|https://m.media-a...|https://www.amazo...|  4.5|      0|139.99|      0.0|        104|       False|             2000|\n",
      "|B07GDLCQXV|Luggage Sets Expa...|https://m.media-a...|https://www.amazo...|  4.5|      0|169.99|   209.99|        104|       False|             1000|\n",
      "|B07XSCCZYG|Platinum Elite So...|https://m.media-a...|https://www.amazo...|  4.6|      0|365.49|   429.99|        104|       False|              300|\n",
      "|B08MVFKGJM|Freeform Hardside...|https://m.media-a...|https://www.amazo...|  4.6|      0|291.59|   354.37|        104|       False|              400|\n",
      "|B01DJLKZBA|Winfield 2 Hardsi...|https://m.media-a...|https://www.amazo...|  4.5|      0|174.99|   309.99|        104|       False|              400|\n",
      "+----------+--------------------+--------------------+--------------------+-----+-------+------+---------+-----------+------------+-----------------+\n",
      "only showing top 5 rows\n"
     ]
    }
   ],
   "source": [
    "products_df = spark.read.csv(products_file_path, header=True, inferSchema=True)\n",
    "products_df.show(5)"
   ]
  },
  {
   "cell_type": "code",
   "execution_count": 6,
   "id": "0fca43ae-3a6b-4a2a-94b9-fd0d68c3c0d8",
   "metadata": {},
   "outputs": [
    {
     "name": "stdout",
     "output_type": "stream",
     "text": [
      "Categories DataFrame Schema:\n",
      "root\n",
      " |-- id: integer (nullable = true)\n",
      " |-- category_name: string (nullable = true)\n",
      "\n",
      "Products DataFrame Schema:\n",
      "root\n",
      " |-- asin: string (nullable = true)\n",
      " |-- title: string (nullable = true)\n",
      " |-- imgUrl: string (nullable = true)\n",
      " |-- productURL: string (nullable = true)\n",
      " |-- stars: string (nullable = true)\n",
      " |-- reviews: string (nullable = true)\n",
      " |-- price: string (nullable = true)\n",
      " |-- listPrice: string (nullable = true)\n",
      " |-- category_id: string (nullable = true)\n",
      " |-- isBestSeller: string (nullable = true)\n",
      " |-- boughtInLastMonth: string (nullable = true)\n"
     ]
    }
   ],
   "source": [
    "# Check schema\n",
    "print(\"Categories DataFrame Schema:\")\n",
    "categories.printSchema()\n",
    "\n",
    "print(\"Products DataFrame Schema:\")\n",
    "products_df.printSchema()\n",
    "\n",
    "# We note that we will need to change data type of columns."
   ]
  },
  {
   "cell_type": "code",
   "execution_count": 7,
   "id": "28b80bb6-e5bf-4259-bd96-0c19a96a05ff",
   "metadata": {},
   "outputs": [
    {
     "name": "stdout",
     "output_type": "stream",
     "text": [
      "Summary Statistics for 'categories':\n",
      "+-------+-----------------+--------------------+\n",
      "|summary|               id|       category_name|\n",
      "+-------+-----------------+--------------------+\n",
      "|  count|              248|                 248|\n",
      "|   mean|          133.875|                null|\n",
      "| stddev|77.13244104485779|                null|\n",
      "|    min|                1|Abrasive & Finish...|\n",
      "|    max|              270|eBook Readers & A...|\n",
      "+-------+-----------------+--------------------+\n",
      "\n",
      "Summary Statistics for 'products_df':\n",
      "+-------+--------------------+--------------------+------------------+----------------------+--------------------+--------------------+--------------------+--------------------+--------------------+-------------------+--------------------+\n",
      "|summary|                asin|               title|            imgUrl|            productURL|               stars|             reviews|               price|           listPrice|         category_id|       isBestSeller|   boughtInLastMonth|\n",
      "+-------+--------------------+--------------------+------------------+----------------------+--------------------+--------------------+--------------------+--------------------+--------------------+-------------------+--------------------+\n",
      "|  count|             1426337|             1426337|           1426334|               1426278|             1426268|             1426253|             1426247|             1426240|             1426239|            1426236|             1426236|\n",
      "|   mean|1.7831715957285302E9|3.846153846153846...|157882.15368131475|        7639921.259375|   715.0485555370866|  180.57010100966673|  43.988813876710786|  13.636938590764458|  121.03273968923267|  77.26093132121916|  142.15436968799096|\n",
      "| stddev| 1.843552672770659E9|                 NaN|1436417.2238168153|   8.619814875691342E7|   831742.0592471198|  1776.5995010892414|  292.76887382568947|  122.58351003637856|  111.57060802608238|  234.4793411897862|   839.9789843554864|\n",
      "|    min|          0007268149| 2pcs LED Light B...|                  |                      |             4GB RAM|      2”  – 50 Count|     \"\"Joy\"\" Wreath\"| \"\"Merry Merry Ch...|  Aluminum/Copper...|     J1400KA-DS04T\"|    CM3200FVA-DS42T\"|\n",
      "|    max|          BT00CTP93I|📬 United States ...|          �Silver\"|【Auto Sleep/Wake】...|with Wireless Rem...|with 5 Pieces TPC...|with Screws & Bolts\"|               zt230|   red mini flower)\"|w/HubxcelAccessory\"|https://www.amazo...|\n",
      "+-------+--------------------+--------------------+------------------+----------------------+--------------------+--------------------+--------------------+--------------------+--------------------+-------------------+--------------------+\n"
     ]
    }
   ],
   "source": [
    "# View summary statistics\n",
    "print(\"Summary Statistics for 'categories':\")\n",
    "categories.describe().show()\n",
    "\n",
    "print(\"Summary Statistics for 'products_df':\")\n",
    "products_df.describe().show()\n",
    "\n",
    "# We note that many columns seem to have incorrect data recorded such as string in numeric columns and vice versa"
   ]
  },
  {
   "cell_type": "code",
   "execution_count": null,
   "id": "ad81c615-71ea-4aa1-8783-ad4c7889d074",
   "metadata": {},
   "outputs": [],
   "source": [
    "# Drop irrelevant rows (image and product URL)"
   ]
  },
  {
   "cell_type": "code",
   "execution_count": 8,
   "id": "e0975ee8-d5ce-46e8-a60f-34f6362f349c",
   "metadata": {},
   "outputs": [
    {
     "name": "stdout",
     "output_type": "stream",
     "text": [
      "\n"
     ]
    }
   ],
   "source": [
    "products = products_df.drop(\"imgUrl\", \"productURL\")"
   ]
  },
  {
   "cell_type": "code",
   "execution_count": 9,
   "id": "32a88d77-df69-4c96-991d-348f1110554d",
   "metadata": {},
   "outputs": [
    {
     "name": "stdout",
     "output_type": "stream",
     "text": [
      "+----------+--------------------+-----+-------+------+---------+-----------+------------+-----------------+\n",
      "|      asin|               title|stars|reviews| price|listPrice|category_id|isBestSeller|boughtInLastMonth|\n",
      "+----------+--------------------+-----+-------+------+---------+-----------+------------+-----------------+\n",
      "|B014TMV5YE|Sion Softside Exp...|  4.5|      0|139.99|      0.0|        104|       False|             2000|\n",
      "|B07GDLCQXV|Luggage Sets Expa...|  4.5|      0|169.99|   209.99|        104|       False|             1000|\n",
      "|B07XSCCZYG|Platinum Elite So...|  4.6|      0|365.49|   429.99|        104|       False|              300|\n",
      "|B08MVFKGJM|Freeform Hardside...|  4.6|      0|291.59|   354.37|        104|       False|              400|\n",
      "|B01DJLKZBA|Winfield 2 Hardsi...|  4.5|      0|174.99|   309.99|        104|       False|              400|\n",
      "+----------+--------------------+-----+-------+------+---------+-----------+------------+-----------------+\n",
      "only showing top 5 rows\n"
     ]
    }
   ],
   "source": [
    "products.show(5)"
   ]
  },
  {
   "cell_type": "markdown",
   "id": "29266b83-1930-4518-9c4f-5419fb42d96d",
   "metadata": {},
   "source": [
    "# 2. Data Cleaning - Change Data Type"
   ]
  },
  {
   "cell_type": "code",
   "execution_count": 10,
   "id": "8feb9ee0-4111-4d1f-a329-0dcb92907af1",
   "metadata": {},
   "outputs": [
    {
     "name": "stdout",
     "output_type": "stream",
     "text": [
      "\n"
     ]
    }
   ],
   "source": [
    "columns_to_cast = {\n",
    "    \"asin\": StringType(),\n",
    "    \"title\": StringType(),\n",
    "    \"stars\": FloatType(),\n",
    "    \"reviews\": IntegerType(),\n",
    "    \"price\": FloatType(),\n",
    "    \"listPrice\": FloatType(),\n",
    "    \"category_id\": IntegerType(),\n",
    "    \"isBestSeller\": StringType(),\n",
    "    \"boughtInLastMonth\": IntegerType()\n",
    "}"
   ]
  },
  {
   "cell_type": "code",
   "execution_count": 11,
   "id": "69d4a5ee-5b0d-4a4a-92b0-1c1b7b1bb702",
   "metadata": {},
   "outputs": [
    {
     "name": "stdout",
     "output_type": "stream",
     "text": [
      "\n"
     ]
    }
   ],
   "source": [
    "products = products.select(*[col(c).cast(dt).alias(c) for c, dt in columns_to_cast.items()])"
   ]
  },
  {
   "cell_type": "code",
   "execution_count": 13,
   "id": "f85f1bd3-b9ec-4d7e-bb97-8d59771ecdb6",
   "metadata": {},
   "outputs": [
    {
     "name": "stdout",
     "output_type": "stream",
     "text": [
      "root\n",
      " |-- asin: string (nullable = true)\n",
      " |-- title: string (nullable = true)\n",
      " |-- stars: float (nullable = true)\n",
      " |-- reviews: integer (nullable = true)\n",
      " |-- price: float (nullable = true)\n",
      " |-- listPrice: float (nullable = true)\n",
      " |-- category_id: integer (nullable = true)\n",
      " |-- isBestSeller: string (nullable = true)\n",
      " |-- boughtInLastMonth: integer (nullable = true)\n"
     ]
    }
   ],
   "source": [
    "products.printSchema()"
   ]
  },
  {
   "cell_type": "markdown",
   "id": "ae1f4a05-c5d5-4000-838c-f56f3ab98ccd",
   "metadata": {},
   "source": [
    "# 3. Examine and Clean Dependent Variable: `IsBestSeller`"
   ]
  },
  {
   "cell_type": "code",
   "execution_count": 14,
   "id": "ae612741-0818-4b00-90bf-66951d284f66",
   "metadata": {},
   "outputs": [
    {
     "name": "stdout",
     "output_type": "stream",
     "text": [
      "+----------+--------------------+-----+-------+-----+---------+-----------+------------+-----------------+\n",
      "|      asin|               title|stars|reviews|price|listPrice|category_id|isBestSeller|boughtInLastMonth|\n",
      "+----------+--------------------+-----+-------+-----+---------+-----------+------------+-----------------+\n",
      "|B07H515VCZ|\"Maxporter II 30\"...| null|   null|  4.5|      0.0|        299|         0.0|              104|\n",
      "|B0B2X1BDFH|\"Stratum 2.0 Expa...| null|      4|  0.0|    89.95|        139|         104|             null|\n",
      "|B09H19P7CY|\"Ultimax II 26\"\" ...| null|   null| null|      4.6|          0|      179.99|                0|\n",
      "|B089CZ9N1M|\"Reaction \"\"Madis...| null|   null|  4.1|      0.0|        185|         0.0|              104|\n",
      "|B0CDXDV1BB|\"Hard Sided Lugga...| null|      4|  0.0|   129.99|        139|         104|             null|\n",
      "|B07DNJPVK4|\"25\"\" Upright Lug...| null|      4|  0.0|   108.13|        119|         104|             null|\n",
      "|B09X5ZGJR2|\"Sugar Skull Trav...| null|   null|  4.4|      0.0|        149|         0.0|              104|\n",
      "|B09NXHMK5L|\"Duo-Tone 31\"\" So...| null|      4|  0.0|    94.84|          0|         104|             null|\n",
      "|B09NXM54Z5|\"Duo-Tone 27\"\" So...| null|      4|  0.0|    81.31|          0|         104|             null|\n",
      "|B08R6PWN3R|\"Ultimax 30\"\" Har...| null|   null|  4.5|      0.0|        299|         0.0|              104|\n",
      "|B0BN6VDMSD|\"Census 32\"\" Soft...| null|      0|  0.0|   134.99|        149|         104|             null|\n",
      "|B0BJDWDT8T|\"Suitcase, 20\"\" C...| null|      4|  0.0|    99.99|        109|         104|             null|\n",
      "|B0BCPJZXM3|\"Intrepid 32\"\" So...| null|      4|  0.0|   149.99|        189|         104|             null|\n",
      "|B071YF98T8|\"Luggage Large 28...| null|      4|  0.0|   165.99|          0|         104|             null|\n",
      "|B09VYKMQ7M|\"Intervolve 32\"\" ...| null|      4|  0.0|   158.99|        169|         104|             null|\n",
      "|B0B3M4Z4GN|\"Expectant 32\"\" S...| null|      0|  0.0|   159.69|        179|         104|             null|\n",
      "|B0C951YYJ5|\"MaXpace 31\"\" Sof...| null|      5|  0.0|     82.6|          0|         104|             null|\n",
      "|B09VYL7DVR|\"Encompass 31\"\" H...| null|      3|  0.0|   129.99|        169|         104|             null|\n",
      "|B09V8YQWGT|\"Divinity II 28\"\"...| null|      4|  0.0|   139.99|          0|         104|             null|\n",
      "|B09V99P3M3|\"Citywide 33\"\" So...| null|      4|  0.0|   134.99|        149|         104|             null|\n",
      "+----------+--------------------+-----+-------+-----+---------+-----------+------------+-----------------+\n",
      "only showing top 20 rows\n"
     ]
    }
   ],
   "source": [
    "# View invalid rows\n",
    "invalid_dep = products.filter((~(F.col('isBestSeller')=='True') & ~(F.col('isBestSeller')=='False')))\n",
    "invalid_dep.show()"
   ]
  },
  {
   "cell_type": "code",
   "execution_count": 15,
   "id": "e1a1cf35-416c-4be9-a81e-75a7c085caea",
   "metadata": {},
   "outputs": [
    {
     "name": "stdout",
     "output_type": "stream",
     "text": [
      "No. of rows with invalid data in dependent var: 53649\n"
     ]
    }
   ],
   "source": [
    "print(f\"No. of rows with invalid data in dependent var: {invalid_dep.count()}\")"
   ]
  },
  {
   "cell_type": "code",
   "execution_count": 16,
   "id": "053622d0-9c6c-4c0a-81cb-c2c2a5905f4c",
   "metadata": {},
   "outputs": [
    {
     "name": "stdout",
     "output_type": "stream",
     "text": [
      "\n"
     ]
    }
   ],
   "source": [
    "# We will convert these values to null\n",
    "products = products.withColumn('isBestSeller', F.when(~(F.col('isBestSeller').isin('True', 'False')), None).otherwise(F.col('isBestSeller')))"
   ]
  },
  {
   "cell_type": "code",
   "execution_count": 22,
   "id": "828f9e84-a1f7-46fe-80b1-dc2d9585fa28",
   "metadata": {},
   "outputs": [
    {
     "name": "stdout",
     "output_type": "stream",
     "text": [
      "\n"
     ]
    }
   ],
   "source": [
    "# Convert RDD object to pandas object\n",
    "products_pd = products.toPandas()"
   ]
  },
  {
   "cell_type": "code",
   "execution_count": 23,
   "id": "a9d13f3b-b369-49db-8f9c-6a845e696ef2",
   "metadata": {},
   "outputs": [
    {
     "data": {
      "image/png": "[encoded data removed]"
     },
     "metadata": {
      "image/png": {
       "height": 480,
       "width": 640
      }
     },
     "output_type": "display_data"
    }
   ],
   "source": [
    "# Visualize distribution of 'isBestSeller' variable\n",
    "\n",
    "sns.set(style=\"white\")\n",
    "plt.figure(figsize=(10, 6))\n",
    "ax = sns.countplot(x='isBestSeller', data=products_pd)\n",
    "plt.title('Distribution of Dep Var')\n",
    "plt.xlabel('Is Best Seller?')\n",
    "plt.ylabel('Count')\n",
    "for p in ax.patches:\n",
    "    ax.annotate(f'{int(p.get_height())}', \n",
    "                (p.get_x() + p.get_width() / 2., p.get_height()), \n",
    "                ha='center', va='bottom', fontsize=10)\n",
    "plt.show();\n",
    "%matplot plt"
   ]
  },
  {
   "cell_type": "markdown",
   "id": "5edfe854-9d8a-4b31-809d-3851002cae1f",
   "metadata": {},
   "source": [
    "# 3. Examine and Clean Features"
   ]
  },
  {
   "cell_type": "markdown",
   "id": "43ca0696-db8e-4237-83ea-3e2041eaf131",
   "metadata": {},
   "source": [
    "### **`stars`**"
   ]
  },
  {
   "cell_type": "code",
   "execution_count": 24,
   "id": "03f35703-5f30-44ee-8180-9157df09c0bd",
   "metadata": {},
   "outputs": [
    {
     "name": "stdout",
     "output_type": "stream",
     "text": [
      "216452\n"
     ]
    }
   ],
   "source": [
    "# Any star rating below 0 or above 5 is also invalid\n",
    "invalid_stars = products.filter((col('stars') <= 0) | (col('stars') >= 5)).count()\n",
    "print(invalid_stars)"
   ]
  },
  {
   "cell_type": "code",
   "execution_count": 25,
   "id": "06b7bbee-1932-49b7-8515-ab35ad587585",
   "metadata": {},
   "outputs": [
    {
     "name": "stdout",
     "output_type": "stream",
     "text": [
      "\n"
     ]
    }
   ],
   "source": [
    "# Replace invalid entries in 'star' column with Null values\n",
    "products = products.withColumn('stars', F.when((F.col('stars') <= 0) | (F.col('stars') >= 5), None).otherwise(F.col('stars')))"
   ]
  },
  {
   "cell_type": "code",
   "execution_count": 26,
   "id": "ba29c50f-3427-4288-a848-2c2c15920efc",
   "metadata": {},
   "outputs": [
    {
     "name": "stdout",
     "output_type": "stream",
     "text": [
      "0\n"
     ]
    }
   ],
   "source": [
    "# We do not find a strict logical cutoff for other features like price, listPrice, category_id or title. Hence, we do not run any transformations on these."
   ]
  },
  {
   "cell_type": "markdown",
   "id": "d64bb0ca-d32b-46a6-b419-13957770b9f5",
   "metadata": {},
   "source": [
    "# 4. Treating Missing Data"
   ]
  },
  {
   "cell_type": "markdown",
   "id": "105c65cc-a144-47f1-973f-b5b0af341cf3",
   "metadata": {},
   "source": [
    "## Data Imputation, Transformation, and Cleaning Strategy\n",
    "\n",
    "### Dependent Variable (isBestSeller)\n",
    "- **Decision**: Drop rows where 'isBestSeller' is null.\n",
    "- **Rationale**: \n",
    "  - As the target variable for our classification task, we cannot impute these values without introducing significant bias.\n",
    "  - Approximately 3.7% of the dependent variable is missing.\n",
    "  - Given the highly imbalanced nature of our dataset, imputing these values could significantly affect our model's performance and reliability.\n",
    "  - We treat these missing values as Missing At Random (MAR), considering the web-scraped origin of our data.\n",
    "- **Implementation**:\n",
    "  - Remove rows where 'isBestSeller' is null.\n",
    "  - Note the number of rows removed for transparency in our analysis.\n",
    "\n",
    "### Stars and Reviews\n",
    "- **Decision**: No imputation for 'stars' and 'reviews' columns where value is 0.\n",
    "- **Rationale**: \n",
    "  - Zero values in these columns are meaningful, indicating no ratings or reviews.\n",
    "  - These zeros could be informative for predicting the 'isBestSeller' status.\n",
    "  - Preserving these zeros maintains the integrity of the original data distribution.\n",
    "\n",
    "### Price\n",
    "- **Decision**: Impute prices where value is 0 with the median price.\n",
    "- **Rationale**:\n",
    "  - Only 2.3% of price data is zero, limiting the impact on overall distribution.\n",
    "  - Simplifies subsequent analyses by eliminating special handling for zero prices.\n",
    "  - Allows use of price in models that can't handle zeros or nulls well.\n",
    "- **Implementation**:\n",
    "  - Calculate median price, excluding zeros.\n",
    "  - Create a flag 'price_imputed' to mark which prices were imputed.\n",
    "  - Replace zero prices with the median.\n",
    "\n",
    "### ListPrice\n",
    "- **Decision**: Convert to a binary feature.\n",
    "- **Rationale**:\n",
    "  - 75% of the data has 0 for listPrice, making it more informative as a binary indicator.\n",
    "  - Simplifies the representation of whether a list price was given or not.\n",
    "  - Avoids issues with imputing a large portion of the data.\n",
    "- **Implementation**:\n",
    "  - Create a new binary column 'has_listPrice'.\n",
    "  - Set to True when listPrice > 0, False otherwise.\n",
    "\n",
    "### Considerations for Analysis\n",
    "- The removal of rows with missing 'isBestSeller' values may slightly reduce our dataset size. The impact of this reduction should be assessed.\n",
    "- When interpreting results, particularly for price-sensitive analyses, consider the potential impact of price imputation.\n",
    "- The 'price_imputed' flag allows for separate analysis of imputed values if needed.\n",
    "- For 'stars' and 'reviews', zero values should be treated as a distinct category in analyses.\n",
    "- The new binary 'has_listPrice' feature represents the presence or absence of a list price, rather than the price value itself.\n",
    "\n",
    "This strategy aims to balance data completeness with preservation of original data characteristics, facilitating robust analysis while maintaining transparency about data modifications. By dropping missing values in our dependent variable and carefully handling other features, we ensure the integrity of our classification task while maximizing the use of available data."
   ]
  },
  {
   "cell_type": "code",
   "execution_count": 27,
   "id": "f45c0c40-e9a7-4042-8b6b-288463b2ea25",
   "metadata": {},
   "outputs": [
    {
     "name": "stdout",
     "output_type": "stream",
     "text": [
      "+----+-----+------------------+------------------+------------------+------------------+------------------+------------------+-----------------+\n",
      "|asin|title|             stars|           reviews|             price|         listPrice|       category_id|      isBestSeller|boughtInLastMonth|\n",
      "+----+-----+------------------+------------------+------------------+------------------+------------------+------------------+-----------------+\n",
      "| 0.0|  0.0|18.936548655752464|2.2238082584971153|1.3619502263490326|0.8668358179027817|0.5550581664781885|3.7683941452826364| 1.75491486233618|\n",
      "+----+-----+------------------+------------------+------------------+------------------+------------------+------------------+-----------------+\n"
     ]
    }
   ],
   "source": [
    "# First, let's examine how many missing values does our dataframe contains\n",
    "total_rows = products.count()\n",
    "missing_values_percentage = products.select([(sum(col(c).isNull().cast(\"int\")) / total_rows * 100).alias(c) for c in products.columns])\n",
    "missing_values_percentage.show()"
   ]
  },
  {
   "cell_type": "code",
   "execution_count": 28,
   "id": "69ae5fd7-c174-4222-8e16-1ce7c43f9bc7",
   "metadata": {},
   "outputs": [
    {
     "name": "stdout",
     "output_type": "stream",
     "text": [
      "\n"
     ]
    }
   ],
   "source": [
    "# Delete rows where dep var value is Null\n",
    "products = products.na.drop(subset=['isBestSeller'])"
   ]
  },
  {
   "cell_type": "code",
   "execution_count": 30,
   "id": "bbb07300-b9be-4875-8d43-e2997a977e98",
   "metadata": {},
   "outputs": [
    {
     "name": "stdout",
     "output_type": "stream",
     "text": [
      "\n"
     ]
    }
   ],
   "source": [
    "# Impute 'stars' column with median:\n",
    "median_stars = products.approxQuantile('stars', [0.5], 0)[0]\n",
    "products = products.na.fill({'stars': median_stars})"
   ]
  },
  {
   "cell_type": "code",
   "execution_count": 33,
   "id": "a7210987-0be4-4ef4-aa35-5bc131fd693e",
   "metadata": {},
   "outputs": [
    {
     "name": "stdout",
     "output_type": "stream",
     "text": [
      "2.3411995013795117\n"
     ]
    }
   ],
   "source": [
    "# Count number of rows with missing price (i.e., price == 0)\n",
    "price_missing_count = products.filter(((F.col('price')==0))).count()\n",
    "(price_missing_count/products.count())*100"
   ]
  },
  {
   "cell_type": "code",
   "execution_count": 34,
   "id": "8f272275-b276-445d-828a-537b4c721050",
   "metadata": {},
   "outputs": [
    {
     "name": "stdout",
     "output_type": "stream",
     "text": [
      "\n"
     ]
    }
   ],
   "source": [
    "# Impute price column with median\n",
    "median_price = products.approxQuantile(\"price\", [0.5], 0)[0]\n",
    "products = products.withColumn('price', F.when((F.col('price') == 0), median_price).otherwise(F.col('price')))"
   ]
  },
  {
   "cell_type": "code",
   "execution_count": 35,
   "id": "4d4a9036-9dde-4ab4-8811-edf8f83d1ae8",
   "metadata": {},
   "outputs": [
    {
     "name": "stdout",
     "output_type": "stream",
     "text": [
      "75.69429114511502\n"
     ]
    }
   ],
   "source": [
    "# Count number of non-discounted prices i.e., listPrice column with value == 0\n",
    "listprice_missing_count = products.filter(((F.col('listPrice')==0))).count()\n",
    "((listprice_missing_count)/products.count())*100"
   ]
  },
  {
   "cell_type": "code",
   "execution_count": 38,
   "id": "f2ace1ab-42b9-4e66-a639-a59f2c2a69ec",
   "metadata": {},
   "outputs": [
    {
     "name": "stdout",
     "output_type": "stream",
     "text": [
      "\n"
     ]
    }
   ],
   "source": [
    "# Convert listPrice into a binary variable 'has_listPrice'\n",
    "# Rationale: Over 75% of listPrice data is 0 (missing or no discount)\n",
    "# Binary representation:\n",
    "#   - Preserves information about presence/absence of list price\n",
    "#   - Avoids imputation issues for a large portion of data\n",
    "#   - May indicate products with potential discounts or special pricing\n",
    "products = products.withColumn('has_listPrice', F.when(F.col('listPrice') == 0, 'False').otherwise('True'))"
   ]
  },
  {
   "cell_type": "code",
   "execution_count": 41,
   "id": "e493d326-1bd0-4540-bd09-8352022a8786",
   "metadata": {},
   "outputs": [
    {
     "name": "stdout",
     "output_type": "stream",
     "text": [
      "+----+-----+-----+-------+-----+---------+-----------+------------+-----------------+-------------+\n",
      "|asin|title|stars|reviews|price|listPrice|category_id|isBestSeller|boughtInLastMonth|has_listPrice|\n",
      "+----+-----+-----+-------+-----+---------+-----------+------------+-----------------+-------------+\n",
      "| 0.0|  0.0|  0.0|    0.0|  0.0|      0.0|        0.0|         0.0|              0.0|          0.0|\n",
      "+----+-----+-----+-------+-----+---------+-----------+------------+-----------------+-------------+\n"
     ]
    }
   ],
   "source": [
    "# Revised count of missing values\n",
    "missing_values_percentage_post_handling = products.select([(sum(col(c).isNull().cast(\"int\")) / total_rows * 100).alias(c) for c in products.columns])\n",
    "missing_values_percentage_post_handling.show()"
   ]
  },
  {
   "cell_type": "code",
   "execution_count": 42,
   "id": "12c85ca3-bde9-4b47-a62a-ca6140ff40e6",
   "metadata": {},
   "outputs": [
    {
     "name": "stdout",
     "output_type": "stream",
     "text": [
      "Revised summary post cleaning\n",
      "+-------+--------------------+--------------------+-------------------+------------------+--------------------+------------------+------------------+------------+------------------+-------------+\n",
      "|summary|                asin|               title|              stars|           reviews|               price|         listPrice|       category_id|isBestSeller| boughtInLastMonth|has_listPrice|\n",
      "+-------+--------------------+--------------------+-------------------+------------------+--------------------+------------------+------------------+------------+------------------+-------------+\n",
      "|  count|             1372587|             1372587|            1372587|           1372587|             1372587|           1372587|           1372587|     1372587|           1372587|      1372587|\n",
      "|   mean|1.8160756785002997E9|3.846153846153846...|  4.378717478596322|183.20376850429153|  42.848201525974645|12.273176126736459|123.76410894172828|        null|143.43152747330407|         null|\n",
      "| stddev|1.8644816239946246E9|                 NaN|0.40818113430277675|1782.9532554817388|   127.3648605079397| 44.91781496348901| 73.33595471719845|        null| 847.6574650893638|         null|\n",
      "|    min|          0007268149| 2pcs LED Light B...|                1.0|                 0|0.009999999776482582|               0.0|                 1|       False|                 0|        False|\n",
      "|    max|          BT00CTP93I|📬 United States ...|                4.9|            346563|     19731.810546875|            999.99|               270|        True|            100000|         True|\n",
      "+-------+--------------------+--------------------+-------------------+------------------+--------------------+------------------+------------------+------------+------------------+-------------+\n"
     ]
    }
   ],
   "source": [
    "print(\"Revised summary post cleaning\")\n",
    "products.describe().show()"
   ]
  },
  {
   "cell_type": "markdown",
   "id": "1afb3dbd-7e26-450b-a97d-2c6b4442e8a7",
   "metadata": {},
   "source": [
    "# 4. Save"
   ]
  },
  {
   "cell_type": "code",
   "execution_count": 43,
   "id": "81c2c9fb-461f-4b9d-9551-c4827d2fd217",
   "metadata": {},
   "outputs": [
    {
     "name": "stdout",
     "output_type": "stream",
     "text": [
      "\n"
     ]
    }
   ],
   "source": [
    "output_path = \"s3://amazon-product-dataset-2024/cleaned/\""
   ]
  },
  {
   "cell_type": "code",
   "execution_count": 44,
   "id": "d551cba8-4f08-4eb9-a45c-a49deb34acef",
   "metadata": {},
   "outputs": [
    {
     "name": "stdout",
     "output_type": "stream",
     "text": [
      "\n"
     ]
    }
   ],
   "source": [
    "products.write.mode(\"overwrite\").format(\"parquet\").option(\"path\", output_path).save()"
   ]
  }
 ],
 "metadata": {
  "kernelspec": {
   "display_name": "venv_aws",
   "language": "python",
   "name": "python3"
  },
  "language_info": {
   "codemirror_mode": {
    "name": "python",
    "version": 3
   },
   "file_extension": ".py",
   "mimetype": "text/x-python",
   "name": "python",
   "pygments_lexer": "python3",
   "version": "3.11.10"
  }
 },
 "nbformat": 4,
 "nbformat_minor": 5
}
