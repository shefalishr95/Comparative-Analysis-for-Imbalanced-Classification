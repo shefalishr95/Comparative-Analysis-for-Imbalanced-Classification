{
 "cells": [
  {
   "cell_type": "code",
   "execution_count": 4,
   "id": "73cce146-c452-40e7-bc96-fef4d4f248eb",
   "metadata": {
    "vscode": {
     "languageId": "python_glue_session"
    }
   },
   "outputs": [
    {
     "name": "stdout",
     "output_type": "stream",
     "text": [
      "Welcome to the Glue Interactive Sessions Kernel\n",
      "For more information on available magic commands, please type %help in any new cell.\n",
      "\n",
      "Please view our Getting Started page to access the most up-to-date information on the Interactive Sessions kernel: https://docs.aws.amazon.com/glue/latest/dg/interactive-sessions.html\n",
      "Installed kernel version: 1.0.6 \n",
      "Current idle_timeout is None minutes.\n",
      "idle_timeout has been set to 5 minutes.\n",
      "Previous worker type: None\n",
      "Setting new worker type to: Standard\n",
      "Previous number of workers: None\n",
      "Setting new number of workers to: 4\n"
     ]
    }
   ],
   "source": [
    "%idle_timeout 5\n",
    "%worker_type Standard\n",
    "%number_of_workers 4"
   ]
  },
  {
   "cell_type": "code",
   "execution_count": 4,
   "id": "a57eb577-7faf-4a64-a3f7-26169ec01e2d",
   "metadata": {
    "vscode": {
     "languageId": "python_glue_session"
    }
   },
   "outputs": [
    {
     "name": "stdout",
     "output_type": "stream",
     "text": [
      "\n"
     ]
    }
   ],
   "source": [
    "spark = SparkSession.builder.appName(\"Amazon Product Data Tansformation\").getOrCreate()"
   ]
  },
  {
   "cell_type": "code",
   "execution_count": 27,
   "id": "4a130c19-4ec4-4180-a9bc-3b8a079f849d",
   "metadata": {
    "vscode": {
     "languageId": "python_glue_session"
    }
   },
   "outputs": [
    {
     "name": "stdout",
     "output_type": "stream",
     "text": [
      "\n"
     ]
    }
   ],
   "source": [
    "# Load libraries\n",
    "import pandas as pd\n",
    "from pyspark.sql import SparkSession\n",
    "from pyspark.sql.types import FloatType, IntegerType, StringType, NumericType\n",
    "from pyspark.ml.feature import StringIndexer, OneHotEncoder, Tokenizer, HashingTF, IDF, VectorAssembler\n",
    "from pyspark.sql.functions import col, log1p, percent_rank, length, sum, when\n",
    "\n",
    "from pyspark.sql.window import Window\n",
    "import pyspark.sql.functions as F"
   ]
  },
  {
   "cell_type": "markdown",
   "id": "098c21b9",
   "metadata": {},
   "source": [
    "# 1. Load Data"
   ]
  },
  {
   "cell_type": "code",
   "execution_count": 5,
   "id": "6763a798-4340-407c-be32-31b4c913e0c1",
   "metadata": {
    "vscode": {
     "languageId": "python_glue_session"
    }
   },
   "outputs": [
    {
     "name": "stdout",
     "output_type": "stream",
     "text": [
      "\n"
     ]
    }
   ],
   "source": [
    "bucket_name = 'amazon-product-dataset-2024'\n",
    "categories_file_path = 's3://{}/amazon_categories.csv'.format(bucket_name)\n",
    "products_cleaned_file_path = \"s3://amazon-product-dataset-2024/cleaned/\""
   ]
  },
  {
   "cell_type": "code",
   "execution_count": 6,
   "id": "6a15a09f-598b-4b2c-bb5b-566cde2060bd",
   "metadata": {
    "vscode": {
     "languageId": "python_glue_session"
    }
   },
   "outputs": [
    {
     "name": "stdout",
     "output_type": "stream",
     "text": [
      "+---+--------------------+\n",
      "| id|       category_name|\n",
      "+---+--------------------+\n",
      "|  1|Beading & Jewelry...|\n",
      "|  2|   Fabric Decorating|\n",
      "|  3|Knitting & Croche...|\n",
      "|  4|Printmaking Supplies|\n",
      "|  5|Scrapbooking & St...|\n",
      "+---+--------------------+\n",
      "only showing top 5 rows\n"
     ]
    }
   ],
   "source": [
    "categories = spark.read.csv(categories_file_path, header=True, inferSchema=True)\n",
    "categories.show(5)"
   ]
  },
  {
   "cell_type": "code",
   "execution_count": 16,
   "id": "b5ec9910-8429-4547-aba6-c09320729534",
   "metadata": {
    "vscode": {
     "languageId": "python_glue_session"
    }
   },
   "outputs": [
    {
     "name": "stdout",
     "output_type": "stream",
     "text": [
      "+----------+--------------------+-----+-------+------------------+---------+-----------+------------+-----------------+-------------+\n",
      "|      asin|               title|stars|reviews|             price|listPrice|category_id|isBestSeller|boughtInLastMonth|has_listPrice|\n",
      "+----------+--------------------+-----+-------+------------------+---------+-----------+------------+-----------------+-------------+\n",
      "|B014TMV5YE|Sion Softside Exp...|  4.5|      0|139.99000549316406|      0.0|        104|       False|             2000|        False|\n",
      "|B07GDLCQXV|Luggage Sets Expa...|  4.5|      0|169.99000549316406|   209.99|        104|       False|             1000|         True|\n",
      "|B07XSCCZYG|Platinum Elite So...|  4.6|      0|  365.489990234375|   429.99|        104|       False|              300|         True|\n",
      "|B08MVFKGJM|Freeform Hardside...|  4.6|      0| 291.5899963378906|   354.37|        104|       False|              400|         True|\n",
      "|B01DJLKZBA|Winfield 2 Hardsi...|  4.5|      0|174.99000549316406|   309.99|        104|       False|              400|         True|\n",
      "+----------+--------------------+-----+-------+------------------+---------+-----------+------------+-----------------+-------------+\n",
      "only showing top 5 rows\n"
     ]
    }
   ],
   "source": [
    "df = spark.read.parquet(products_cleaned_file_path)\n",
    "df.show(5)"
   ]
  },
  {
   "cell_type": "markdown",
   "id": "80a34ae9",
   "metadata": {},
   "source": [
    "# 2. Transform"
   ]
  },
  {
   "cell_type": "code",
   "execution_count": 17,
   "id": "d702e7f6-9bc9-49c5-8b5d-2952561d78d1",
   "metadata": {
    "vscode": {
     "languageId": "python_glue_session"
    }
   },
   "outputs": [
    {
     "name": "stdout",
     "output_type": "stream",
     "text": [
      "\n"
     ]
    }
   ],
   "source": [
    "df = df.join(categories, df.category_id == categories.id, how='left')"
   ]
  },
  {
   "cell_type": "code",
   "execution_count": 18,
   "id": "bbf1bd1a-44a8-4ee0-9f2b-e4efb84f245d",
   "metadata": {
    "vscode": {
     "languageId": "python_glue_session"
    }
   },
   "outputs": [
    {
     "name": "stdout",
     "output_type": "stream",
     "text": [
      "\n"
     ]
    }
   ],
   "source": [
    "df = df.drop('category_id', 'id')"
   ]
  },
  {
   "cell_type": "code",
   "execution_count": 19,
   "id": "f5752c01-444c-4a1a-ab3e-a34c03ba33a3",
   "metadata": {
    "vscode": {
     "languageId": "python_glue_session"
    }
   },
   "outputs": [
    {
     "name": "stdout",
     "output_type": "stream",
     "text": [
      "+----------+--------------------+-----+-------+------------------+---------+------------+-----------------+-------------+-------------+\n",
      "|      asin|               title|stars|reviews|             price|listPrice|isBestSeller|boughtInLastMonth|has_listPrice|category_name|\n",
      "+----------+--------------------+-----+-------+------------------+---------+------------+-----------------+-------------+-------------+\n",
      "|B014TMV5YE|Sion Softside Exp...|  4.5|      0|139.99000549316406|      0.0|       False|             2000|        False|    Suitcases|\n",
      "|B07GDLCQXV|Luggage Sets Expa...|  4.5|      0|169.99000549316406|   209.99|       False|             1000|         True|    Suitcases|\n",
      "|B07XSCCZYG|Platinum Elite So...|  4.6|      0|  365.489990234375|   429.99|       False|              300|         True|    Suitcases|\n",
      "|B08MVFKGJM|Freeform Hardside...|  4.6|      0| 291.5899963378906|   354.37|       False|              400|         True|    Suitcases|\n",
      "|B01DJLKZBA|Winfield 2 Hardsi...|  4.5|      0|174.99000549316406|   309.99|       False|              400|         True|    Suitcases|\n",
      "+----------+--------------------+-----+-------+------------------+---------+------------+-----------------+-------------+-------------+\n",
      "only showing top 5 rows\n"
     ]
    }
   ],
   "source": [
    "df.show(5)"
   ]
  },
  {
   "cell_type": "code",
   "execution_count": 24,
   "id": "61efe75d-cc7b-43f2-bf9f-60b91f74b5e6",
   "metadata": {
    "vscode": {
     "languageId": "python_glue_session"
    }
   },
   "outputs": [
    {
     "name": "stdout",
     "output_type": "stream",
     "text": [
      "\n"
     ]
    }
   ],
   "source": [
    "# convert booleans to 0,1\n",
    "df = df.withColumn(\"has_listPrice\", when(col(\"has_listPrice\") == True, 1).otherwise(0))\n",
    "df = df.withColumn(\"isBestSeller\", when(col(\"isBestSeller\") == True, 1).otherwise(0))"
   ]
  },
  {
   "cell_type": "code",
   "execution_count": 28,
   "id": "46c3b573-1ea5-4d0a-8ace-b28d43a87950",
   "metadata": {
    "vscode": {
     "languageId": "python_glue_session"
    }
   },
   "outputs": [
    {
     "name": "stdout",
     "output_type": "stream",
     "text": [
      "\n"
     ]
    }
   ],
   "source": [
    "# rating_weighted_reviews: Multiply stars by reviews to create a new feature\n",
    "df = df.withColumn('rating_weighted_reviews', col('stars') * col('reviews'))"
   ]
  },
  {
   "cell_type": "code",
   "execution_count": 29,
   "id": "8ca5f076-40a7-49e4-9463-93a015238000",
   "metadata": {
    "vscode": {
     "languageId": "python_glue_session"
    }
   },
   "outputs": [
    {
     "name": "stdout",
     "output_type": "stream",
     "text": [
      "\n"
     ]
    }
   ],
   "source": [
    "# isPopular: Flag products with reviews above the 75th percentile\n",
    "# Define a window to compute percentiles\n",
    "windowSpec = Window.orderBy(col('reviews'))\n",
    "\n",
    "# Compute the percentile rank of reviews\n",
    "df = df.withColumn(\"percent_rank\", percent_rank().over(windowSpec))\n",
    "\n",
    "# Create 'isPopular' feature: 1 if above 75th percentile, 0 otherwise\n",
    "df = df.withColumn(\"isPopular\", (col(\"percent_rank\") > 0.75).cast(\"int\"))"
   ]
  },
  {
   "cell_type": "code",
   "execution_count": 30,
   "id": "662b248e-6a51-4f70-855c-af1b048ca9bb",
   "metadata": {
    "vscode": {
     "languageId": "python_glue_session"
    }
   },
   "outputs": [
    {
     "name": "stdout",
     "output_type": "stream",
     "text": [
      "\n"
     ]
    }
   ],
   "source": [
    "# price_log: Log-transform price\n",
    "df = df.withColumn('price_log', log1p(col('price')))\n",
    "# do we need to?"
   ]
  },
  {
   "cell_type": "code",
   "execution_count": 31,
   "id": "f9229f07-d288-4a12-abaa-904f212a5aa0",
   "metadata": {
    "vscode": {
     "languageId": "python_glue_session"
    }
   },
   "outputs": [
    {
     "name": "stdout",
     "output_type": "stream",
     "text": [
      "\n"
     ]
    }
   ],
   "source": [
    "# title_length\n",
    "df = df.withColumn('title_length', length(col('title')))"
   ]
  },
  {
   "cell_type": "code",
   "execution_count": 32,
   "id": "1f25dcac-8cda-4995-a601-2c3dafdfdb05",
   "metadata": {
    "vscode": {
     "languageId": "python_glue_session"
    }
   },
   "outputs": [
    {
     "name": "stdout",
     "output_type": "stream",
     "text": [
      "+----------+--------------------+-----+-------+------------------+---------+------------+-----------------+-------------+--------------------+-----------------------+------------+---------+------------------+------------+\n",
      "|      asin|               title|stars|reviews|             price|listPrice|isBestSeller|boughtInLastMonth|has_listPrice|       category_name|rating_weighted_reviews|percent_rank|isPopular|         price_log|title_length|\n",
      "+----------+--------------------+-----+-------+------------------+---------+------------+-----------------+-------------+--------------------+-----------------------+------------+---------+------------------+------------+\n",
      "|B0BNN7RWWV|Jerify 4 Pcs Foam...|  4.5|      0|24.989999771118164|      0.0|           0|               50|            0|Sports & Outdoor ...|                    0.0|         0.0|        0| 3.257711839846864|         136|\n",
      "|B0CD2BQ7TK|48 Pieces Mini St...|  4.5|      0| 9.989999771118164|      0.0|           0|                0|            0|Sports & Outdoor ...|                    0.0|         0.0|        0| 2.396985747589157|         190|\n",
      "|B0C5QPR8BM|Water Gun for Kid...|  4.5|      0|15.989999771118164|      0.0|           0|               50|            0|Sports & Outdoor ...|                    0.0|         0.0|        0|2.8326249222122786|         134|\n",
      "|B0BMN41ZMR|ArtCreativity Air...|  4.5|      0|19.969999313354492|      0.0|           0|               50|            0|Sports & Outdoor ...|                    0.0|         0.0|        0|3.0430928121696454|         181|\n",
      "|B0BYYTTHLQ|Sratte 70 Pcs Col...|  4.5|      0|18.989999771118164|      0.0|           0|                0|            0|Sports & Outdoor ...|                    0.0|         0.0|        0|2.9952321370624917|         197|\n",
      "+----------+--------------------+-----+-------+------------------+---------+------------+-----------------+-------------+--------------------+-----------------------+------------+---------+------------------+------------+\n",
      "only showing top 5 rows\n"
     ]
    }
   ],
   "source": [
    "df.show(5)"
   ]
  },
  {
   "cell_type": "code",
   "execution_count": 34,
   "id": "bd8782a2-661c-45d4-822b-aa4fa2816958",
   "metadata": {
    "vscode": {
     "languageId": "python_glue_session"
    }
   },
   "outputs": [
    {
     "name": "stdout",
     "output_type": "stream",
     "text": [
      "['asin', 'title', 'stars', 'reviews', 'price', 'listPrice', 'isBestSeller', 'boughtInLastMonth', 'has_listPrice', 'category_name', 'rating_weighted_reviews', 'percent_rank', 'isPopular', 'price_log', 'title_length']\n"
     ]
    }
   ],
   "source": [
    "print(df.columns)"
   ]
  },
  {
   "cell_type": "code",
   "execution_count": 37,
   "id": "308fa481-6fe0-4656-9b6d-c7c2eb872314",
   "metadata": {
    "vscode": {
     "languageId": "python_glue_session"
    }
   },
   "outputs": [
    {
     "name": "stdout",
     "output_type": "stream",
     "text": [
      "+-------+--------------------+--------------------+------------------+------------------+--------------------+------------------+--------------------+------------------+-------------------+--------------------+-----------------------+-------------------+-------------------+-------------------+------------------+\n",
      "|summary|                asin|               title|             stars|           reviews|               price|         listPrice|        isBestSeller| boughtInLastMonth|      has_listPrice|       category_name|rating_weighted_reviews|       percent_rank|          isPopular|          price_log|      title_length|\n",
      "+-------+--------------------+--------------------+------------------+------------------+--------------------+------------------+--------------------+------------------+-------------------+--------------------+-----------------------+-------------------+-------------------+-------------------+------------------+\n",
      "|  count|             1372587|             1372587|           1372587|           1372587|             1372587|           1372587|             1372587|           1372587|            1372587|             1372587|                1372587|            1372587|            1372587|            1372587|           1372587|\n",
      "|   mean|1.8160756785002997E9|3.846153846153846...| 4.378717478596322|183.20376850429153|   42.84820152597464|12.273176126736459|0.005910007890210238|143.43152747330407|0.24305708854884972|                null|      821.5705616833317|0.18695594941446836|0.20890260508077083|  3.194601914734446|120.71998204849675|\n",
      "| stddev|1.8644816239946253E9|                 NaN|0.4081811343027802|1782.9532554817442|  127.36486050794115|44.917814963488695| 0.07664909638898346| 847.6574650893615| 0.4289294514185503|                null|      8028.614469437057| 0.3648850248520862|  0.406524817290887| 0.8791333017864965|54.005081223419616|\n",
      "|    min|          0007268149| 2pcs LED Light B...|               1.0|                 0|0.009999999776482582|               0.0|                   0|                 0|                  0|Abrasive & Finish...|                    0.0|                0.0|                  0|0.00995033063186371|                 1|\n",
      "|    max|          BT00CTP93I|📬 United States ...|               4.9|            346563|     19731.810546875|            999.99|                   1|            100000|                  1|eBook Readers & A...|              1490221.0|                1.0|                  1|  9.890038039296043|               603|\n",
      "+-------+--------------------+--------------------+------------------+------------------+--------------------+------------------+--------------------+------------------+-------------------+--------------------+-----------------------+-------------------+-------------------+-------------------+------------------+\n"
     ]
    }
   ],
   "source": [
    "df.describe().show(truncate=False)"
   ]
  },
  {
   "cell_type": "code",
   "execution_count": null,
   "id": "04ae059f-9872-4411-ac5a-8621f0db53bf",
   "metadata": {
    "vscode": {
     "languageId": "python_glue_session"
    }
   },
   "outputs": [],
   "source": [
    "numeric_columns = [\n",
    "    'stars', \n",
    "    'reviews', \n",
    "    'price', \n",
    "    'listPrice', \n",
    "    'rating_weighted_reviews', \n",
    "    'percent_rank', \n",
    "    'price_log', \n",
    "    'title_length'\n",
    "]\n",
    "\n",
    "# Prepare aggregation expressions for mean, min, and max\n",
    "agg_exprs = [\n",
    "    F.mean(column).alias(f'mean_{column}') for column in numeric_columns\n",
    "] + [\n",
    "    F.min(column).alias(f'min_{column}') for column in numeric_columns\n",
    "] + [\n",
    "    F.max(column).alias(f'max_{column}') for column in numeric_columns\n",
    "]\n",
    "\n",
    "# Aggregate the DataFrame\n",
    "agg_results = df.agg(*agg_exprs)"
   ]
  },
  {
   "cell_type": "code",
   "execution_count": 41,
   "id": "8382865b-42f9-45a4-933d-d3b254740faf",
   "metadata": {
    "vscode": {
     "languageId": "python_glue_session"
    }
   },
   "outputs": [
    {
     "name": "stdout",
     "output_type": "stream",
     "text": [
      "\n"
     ]
    }
   ],
   "source": [
    "summary_pandas = agg_results.toPandas()"
   ]
  },
  {
   "cell_type": "code",
   "execution_count": 45,
   "id": "302deef6-1b0e-4ea8-8de9-1b1fbe7c6e18",
   "metadata": {
    "vscode": {
     "languageId": "python_glue_session"
    }
   },
   "outputs": [
    {
     "name": "stdout",
     "output_type": "stream",
     "text": [
      "\n"
     ]
    }
   ],
   "source": [
    "melted_summary = pd.melt(summary_pandas)"
   ]
  },
  {
   "cell_type": "code",
   "execution_count": 46,
   "id": "e69dcb4a-3ae0-473c-976b-c61ee83bcfba",
   "metadata": {
    "vscode": {
     "languageId": "python_glue_session"
    }
   },
   "outputs": [
    {
     "name": "stdout",
     "output_type": "stream",
     "text": [
      "\n"
     ]
    }
   ],
   "source": [
    "melted_summary.columns = ['Statistic', 'Value']"
   ]
  },
  {
   "cell_type": "code",
   "execution_count": 47,
   "id": "7f3ca7fa-940a-4438-a30c-66ebfd791d3b",
   "metadata": {
    "vscode": {
     "languageId": "python_glue_session"
    }
   },
   "outputs": [
    {
     "name": "stdout",
     "output_type": "stream",
     "text": [
      "                       Statistic      Value\n",
      "0                     mean_stars       4.38\n",
      "1                   mean_reviews     183.20\n",
      "2                     mean_price      42.85\n",
      "3                 mean_listPrice      12.27\n",
      "4   mean_rating_weighted_reviews     821.57\n",
      "5              mean_percent_rank       0.19\n",
      "6                 mean_price_log       3.19\n",
      "7              mean_title_length     120.72\n",
      "8                      min_stars       1.00\n",
      "9                    min_reviews       0.00\n",
      "10                     min_price       0.01\n",
      "11                 min_listPrice       0.00\n",
      "12   min_rating_weighted_reviews       0.00\n",
      "13              min_percent_rank       0.00\n",
      "14                 min_price_log       0.01\n",
      "15              min_title_length       1.00\n",
      "16                     max_stars       4.90\n",
      "17                   max_reviews  346563.00\n",
      "18                     max_price   19731.81\n",
      "19                 max_listPrice     999.99\n",
      "20   max_rating_weighted_reviews 1490221.00\n",
      "21              max_percent_rank       1.00\n",
      "22                 max_price_log       9.89\n",
      "23              max_title_length     603.00\n"
     ]
    }
   ],
   "source": [
    "pd.set_option('display.float_format', '{:.2f}'.format)  # Control float format\n",
    "melted_summary"
   ]
  },
  {
   "cell_type": "code",
   "execution_count": 48,
   "id": "57fbc5c5-1f5b-4a74-91d3-3caa455c0b4a",
   "metadata": {
    "vscode": {
     "languageId": "python_glue_session"
    }
   },
   "outputs": [
    {
     "name": "stdout",
     "output_type": "stream",
     "text": [
      "+----------+--------------------+-----+-------+------------------+---------+------------+-----------------+-------------+-------------+-----------------------+------------+---------+------------------+------------+\n",
      "|      asin|               title|stars|reviews|             price|listPrice|isBestSeller|boughtInLastMonth|has_listPrice|category_name|rating_weighted_reviews|percent_rank|isPopular|         price_log|title_length|\n",
      "+----------+--------------------+-----+-------+------------------+---------+------------+-----------------+-------------+-------------+-----------------------+------------+---------+------------------+------------+\n",
      "|B08DDFKXKC|Motorola MB8611 D...|  4.4|      0|177.99000549316406|   219.99|           0|                0|            1|    Computers|                    0.0|         0.0|        0|  5.18732996904819|         181|\n",
      "|B015CH1PJU|SanDisk 128GB Ult...|  4.7|      0|11.989999771118164|      0.0|           0|                0|            0|    Computers|                    0.0|         0.0|        0| 2.564179813062659|          70|\n",
      "|B0B13Y2QVW|Dell WD22TB4 Thun...|  4.2|      0|179.99000549316406|      0.0|           0|                0|            0|    Computers|                    0.0|         0.0|        0|5.1984418114714295|         143|\n",
      "|B0B25LZGGW|Crucial P3 1TB PC...|  4.7|      0|  41.9900016784668|    45.99|           0|                0|            1|    Computers|                    0.0|         0.0|        0|3.7609675695513807|          76|\n",
      "|B08WPRMVWB|MSI Gaming GeForc...|  4.7|      0|  289.989990234375|   459.99|           1|                0|            1|    Computers|                    0.0|         0.0|        0| 5.673288868759856|         107|\n",
      "|B07PFYM5MZ|NETGEAR 8-Port Gi...|  4.8|      0|18.989999771118164|    27.99|           0|                0|            1|    Computers|                    0.0|         0.0|        0|2.9952321370624917|         157|\n",
      "|B0BTRH9MNS|AMD Ryzen™ 9 7950...|  4.7|      0|  649.989990234375|    699.0|           0|                0|            1|    Computers|                    0.0|         0.0|        0| 6.478494266106295|          57|\n",
      "|B09GK8LBWS|CalDigit TS4 Thun...|  4.2|      0|  399.989990234375|   449.95|           0|                0|            1|    Computers|                    0.0|         0.0|        0| 5.993936464985973|         200|\n",
      "|B08GG9CMLR|Google Wifi - AC1...|  4.6|      0|             179.0|   199.99|           0|                0|            1|    Computers|                    0.0|         0.0|        0|  5.19295685089021|          84|\n",
      "|B0B6148YKN|Amazon Basics 128...|  4.6|      0|11.989999771118164|    14.25|           0|                0|            1|    Computers|                    0.0|         0.0|        0| 2.564179813062659|          57|\n",
      "|B07H8TJMX7|seenda Wireless M...|  4.5|      0| 9.979999542236328|    12.99|           0|                0|            1|    Computers|                    0.0|         0.0|        0|2.3960753943907034|         142|\n",
      "|B07T3KCQ94|HUANUO Single Mon...|  4.6|      0|  39.9900016784668|    49.99|           0|                0|            1|    Computers|                    0.0|         0.0|        0| 3.713328175464447|         167|\n",
      "|B09GHV6G55|Dell Laptop Charg...|  4.6|      0|25.520000457763672|      0.0|           0|                0|            0|    Computers|                    0.0|         0.0|        0|3.2778991825787354|         191|\n",
      "|B01H74VKZU|TP-Link AV2000 Po...|  4.3|      0| 89.98999786376953|      0.0|           0|                0|            0|    Computers|                    0.0|         0.0|        0|4.5107495868909595|         196|\n",
      "|B08TLYK78K|Logitech Ergo M57...|  4.7|      0|              41.0|    49.99|           1|                0|            1|    Computers|                    0.0|         0.0|        0|3.7376696182833684|         190|\n",
      "|B0B3SQK74L|TP-Link AXE5400 T...|  4.5|      0|179.99000549316406|   199.99|           0|                0|            1|    Computers|                    0.0|         0.0|        0|5.1984418114714295|         130|\n",
      "|B0BNJ9RGVP|SD Card Reader, B...|  4.6|      0| 9.109999656677246|    10.99|           0|                0|            1|    Computers|                    0.0|         0.0|        0|  2.31352499907365|         186|\n",
      "|B08FBPRY3N|SAMSUNG Galaxy Ta...|  4.8|      0|  499.989990234375|   849.99|           0|                0|            1|    Computers|                    0.0|         0.0|        0| 6.216586121313164|         170|\n",
      "|B08TLT65WM|TP-Link AC1900 Wi...|  4.3|      0| 69.98999786376953|    79.99|           0|                0|            1|    Computers|                    0.0|         0.0|        0| 4.262538991959302|         155|\n",
      "|B07NY2NYLY|OMOTON [2 Pack Sc...|  4.7|      0| 8.890000343322754|    11.98|           0|                0|            1|    Computers|                    0.0|         0.0|        0| 2.291524180348751|         185|\n",
      "+----------+--------------------+-----+-------+------------------+---------+------------+-----------------+-------------+-------------+-----------------------+------------+---------+------------------+------------+\n",
      "only showing top 20 rows\n"
     ]
    }
   ],
   "source": [
    "df.show()"
   ]
  },
  {
   "cell_type": "markdown",
   "id": "193bbaad-cd4d-4dc2-9c9c-ca72438b840c",
   "metadata": {},
   "source": [
    "# 3. Save"
   ]
  },
  {
   "cell_type": "code",
   "execution_count": 49,
   "id": "500d489c-e991-4c50-95be-fdc9c430114d",
   "metadata": {
    "vscode": {
     "languageId": "python_glue_session"
    }
   },
   "outputs": [
    {
     "name": "stdout",
     "output_type": "stream",
     "text": [
      "\n"
     ]
    }
   ],
   "source": [
    "output_path = \"s3://amazon-product-dataset-2024/transformed/\""
   ]
  },
  {
   "cell_type": "code",
   "execution_count": 50,
   "id": "797287b6-fbab-45eb-8dcc-61347dd5b19b",
   "metadata": {
    "vscode": {
     "languageId": "python_glue_session"
    }
   },
   "outputs": [
    {
     "name": "stdout",
     "output_type": "stream",
     "text": [
      "\n"
     ]
    }
   ],
   "source": [
    "df.write.mode(\"overwrite\").format(\"parquet\").option(\"path\", output_path).save()"
   ]
  }
 ],
 "metadata": {
  "kernelspec": {
   "display_name": "Glue PySpark",
   "language": "python",
   "name": "glue_pyspark"
  },
  "language_info": {
   "codemirror_mode": {
    "name": "python",
    "version": 3
   },
   "file_extension": ".py",
   "mimetype": "text/x-python",
   "name": "Python_Glue_Session",
   "pygments_lexer": "python3"
  }
 },
 "nbformat": 4,
 "nbformat_minor": 5
}
